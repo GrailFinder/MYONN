{
 "cells": [
  {
   "cell_type": "code",
   "execution_count": 6,
   "metadata": {
    "collapsed": true
   },
   "outputs": [],
   "source": [
    "from nn import NeuralNetwork\n",
    "from mnist_play import get_mnist, get_local_mnist\n",
    "from tqdm import tqdm_notebook as tqdm\n",
    "import numpy as np\n",
    "import matplotlib.pyplot as plt\n",
    "import seaborn as sns\n",
    "\n",
    "# nn for mnist data\n",
    "out = 10\n",
    "neun = NeuralNetwork(inp=784, hid=200, out=out, alpha=.1)"
   ]
  },
  {
   "cell_type": "code",
   "execution_count": 7,
   "metadata": {},
   "outputs": [
    {
     "data": {
      "application/vnd.jupyter.widget-view+json": {
       "model_id": "43a5761d248b4433a78fa54b73588094",
       "version_major": 2,
       "version_minor": 0
      },
      "text/plain": [
       "A Jupyter Widget"
      ]
     },
     "metadata": {},
     "output_type": "display_data"
    },
    {
     "data": {
      "application/vnd.jupyter.widget-view+json": {
       "model_id": "da6de5ca602c427bb83402108ad08bd8",
       "version_major": 2,
       "version_minor": 0
      },
      "text/plain": [
       "A Jupyter Widget"
      ]
     },
     "metadata": {},
     "output_type": "display_data"
    },
    {
     "data": {
      "application/vnd.jupyter.widget-view+json": {
       "model_id": "52219a67969b49a0af99c5ac10e70ae3",
       "version_major": 2,
       "version_minor": 0
      },
      "text/plain": [
       "A Jupyter Widget"
      ]
     },
     "metadata": {},
     "output_type": "display_data"
    },
    {
     "data": {
      "application/vnd.jupyter.widget-view+json": {
       "model_id": "04cfd87a06664b728d24e91ff54c562d",
       "version_major": 2,
       "version_minor": 0
      },
      "text/plain": [
       "A Jupyter Widget"
      ]
     },
     "metadata": {},
     "output_type": "display_data"
    },
    {
     "name": "stdout",
     "output_type": "stream",
     "text": [
      "\n"
     ]
    }
   ],
   "source": [
    "#  get data and train on it\n",
    "train_set, valid_set, test_set = get_mnist()\n",
    "\n",
    "epochs = 3\n",
    "train_err = []\n",
    "\n",
    "for e in tqdm(range(epochs)):\n",
    "    inp, answ = train_set\n",
    "    for i in tqdm(range(len(inp))):\n",
    "        # scale the input data\n",
    "        inputs = inp[i] / 255.0\n",
    "\n",
    "        targets = np.zeros(out)\n",
    "        targets[int(answ[i])] = 1\n",
    "\n",
    "        train_err.append(neun.train(inputs, targets))"
   ]
  },
  {
   "cell_type": "code",
   "execution_count": 8,
   "metadata": {},
   "outputs": [
    {
     "data": {
      "application/vnd.jupyter.widget-view+json": {
       "model_id": "7e5aebed1da64d3099dc991dcadcdf9b",
       "version_major": 2,
       "version_minor": 0
      },
      "text/plain": [
       "A Jupyter Widget"
      ]
     },
     "metadata": {},
     "output_type": "display_data"
    },
    {
     "name": "stdout",
     "output_type": "stream",
     "text": [
      "\n",
      "nn performance rate: 0.1678\n"
     ]
    }
   ],
   "source": [
    "# test the nn\n",
    "score_history = []\n",
    "inp, answ = test_set\n",
    "for i in tqdm(range(len(inp))):\n",
    "    inputs = inp[i] / 255.0\n",
    "    outputs = neun.query(inputs)\n",
    "\n",
    "    label = np.argmax(outputs[0])\n",
    "    if int(label) == int(answ[i]):\n",
    "        score_history.append(1)\n",
    "    else:\n",
    "        score_history.append(0)\n",
    "        \n",
    "# calculate performance\n",
    "print(f\"nn performance rate: {sum(score_history) / len(score_history)}\")"
   ]
  }
 ],
 "metadata": {
  "kernelspec": {
   "display_name": "Python 3",
   "language": "python",
   "name": "python3"
  },
  "language_info": {
   "codemirror_mode": {
    "name": "ipython",
    "version": 3
   },
   "file_extension": ".py",
   "mimetype": "text/x-python",
   "name": "python",
   "nbconvert_exporter": "python",
   "pygments_lexer": "ipython3",
   "version": "3.6.3"
  }
 },
 "nbformat": 4,
 "nbformat_minor": 2
}
